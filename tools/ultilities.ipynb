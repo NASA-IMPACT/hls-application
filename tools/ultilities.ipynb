{
 "cells": [
  {
   "cell_type": "code",
   "execution_count": 1,
   "id": "8a58bf5c-8dd4-4e2f-8cd7-0f3aac7d2b48",
   "metadata": {},
   "outputs": [],
   "source": [
    "def MNDWI(dataset,green_band,swir1_band):\n",
    "    # Modified Normalised Difference Water Index, Xu 2006\n",
    "    return (dataset[green_band] - dataset[swir1_band])/(dataset[green_band] + dataset[swir1_band])\n",
    "\n",
    "\n",
    "\n",
    "def swir_diff(dataset,swir1_band,swir2_band):\n",
    "    return dataset[swir1_band] / dataset[swir2_band]\n",
    "\n",
    "\n",
    "def alpha(dataset,blue_band,green_band,swir1_band,swir2_band):\n",
    "    return (2 * (np.mean(dataset[blue_band]))) / (np.mean(swir_diff(dataset,swir1_band,swir2_band)) +\n",
    "                                            np.mean(MNDWI(dataset,green_band,swir1_band)**2))\n",
    "\n",
    "\n",
    "def ENDISI(dataset,blue_band,green_band,swir1_band,swir2_band):\n",
    "    mndwi = MNDWI(dataset,green_band,swir1_band)\n",
    "    swir_diff_ds = swir_diff(dataset,swir1_band,swir2_band)\n",
    "    alpha_ds = alpha(dataset,blue_band,green_band,swir1_band,swir2_band)\n",
    "    \n",
    "    return (dataset[blue_band] - (alpha_ds) *\n",
    "            (swir_diff_ds + mndwi**2)) / (dataset[blue_band] + (alpha_ds) *\n",
    "                                       (swir_diff_ds + mndwi**2))\n"
   ]
  },
  {
   "cell_type": "code",
   "execution_count": 1,
   "id": "78b013ec-efba-4d75-b80b-0bc75734b802",
   "metadata": {},
   "outputs": [],
   "source": [
    "def create_quality_mask(quality_data, bit_nums):\n",
    "    \"\"\"\n",
    "    Uses the Fmask layer and bit numbers to create a binary mask of good pixels.\n",
    "    By default, bits 1-5 are used.\n",
    "    \"\"\"\n",
    "    mask_array = np.zeros((quality_data.shape[0], quality_data.shape[1]))\n",
    "    # Remove/Mask Fill Values and Convert to Integer\n",
    "    quality_data = np.nan_to_num(quality_data, 0).astype(np.int8)\n",
    "    for bit in bit_nums:\n",
    "        # Create a Single Binary Mask Layer\n",
    "        mask_temp = np.array(quality_data) & 1 << bit > 0\n",
    "        mask_array = np.logical_or(mask_array, mask_temp)\n",
    "    return mask_array"
   ]
  },
  {
   "cell_type": "code",
   "execution_count": null,
   "id": "7bc12e0b-450b-4f60-a259-613c6bee1709",
   "metadata": {},
   "outputs": [],
   "source": []
  }
 ],
 "metadata": {
  "kernelspec": {
   "display_name": "Python 3 (ipykernel)",
   "language": "python",
   "name": "python3"
  },
  "language_info": {
   "codemirror_mode": {
    "name": "ipython",
    "version": 3
   },
   "file_extension": ".py",
   "mimetype": "text/x-python",
   "name": "python",
   "nbconvert_exporter": "python",
   "pygments_lexer": "ipython3",
   "version": "3.12.7"
  }
 },
 "nbformat": 4,
 "nbformat_minor": 5
}
